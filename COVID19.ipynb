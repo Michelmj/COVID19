{
 "cells": [
  {
   "cell_type": "code",
   "execution_count": 37,
   "metadata": {},
   "outputs": [],
   "source": [
    "# Importing libraries"
   ]
  },
  {
   "cell_type": "code",
   "execution_count": 35,
   "metadata": {},
   "outputs": [
    {
     "data": {
      "text/html": [
       "        <script type=\"text/javascript\">\n",
       "        window.PlotlyConfig = {MathJaxConfig: 'local'};\n",
       "        if (window.MathJax) {MathJax.Hub.Config({SVG: {font: \"STIX-Web\"}});}\n",
       "        if (typeof require !== 'undefined') {\n",
       "        require.undef(\"plotly\");\n",
       "        requirejs.config({\n",
       "            paths: {\n",
       "                'plotly': ['https://cdn.plot.ly/plotly-latest.min']\n",
       "            }\n",
       "        });\n",
       "        require(['plotly'], function(Plotly) {\n",
       "            window._Plotly = Plotly;\n",
       "        });\n",
       "        }\n",
       "        </script>\n",
       "        "
      ]
     },
     "metadata": {},
     "output_type": "display_data"
    }
   ],
   "source": [
    "import numpy as np\n",
    "import pandas as pd\n",
    "import matplotlib.pyplot as plt\n",
    "import seaborn as sea\n",
    "%matplotlib inline\n",
    "\n",
    "import plotly.express as pe\n",
    "import plotly.offline as po\n",
    "import plotly.graph_objs as pgo\n",
    "po.init_notebook_mode(connected = True)\n",
    "\n",
    "import folium\n",
    "import warnings\n",
    "warnings.filterwarnings(\"ignore\")\n",
    "\n",
    "import datetime"
   ]
  },
  {
   "cell_type": "raw",
   "metadata": {},
   "source": [
    "Importing COVID19 line list"
   ]
  },
  {
   "cell_type": "code",
   "execution_count": 13,
   "metadata": {},
   "outputs": [],
   "source": [
    "covid19 = pd.read_csv(\"C:/Users/Delmafia91/Downloads/COVID19linelist.csv\")"
   ]
  },
  {
   "cell_type": "raw",
   "metadata": {},
   "source": [
    "Peek at the data"
   ]
  },
  {
   "cell_type": "code",
   "execution_count": 14,
   "metadata": {
    "scrolled": false
   },
   "outputs": [
    {
     "name": "stdout",
     "output_type": "stream",
     "text": [
      "   id  case_in_country reporting date  Unnamed: 3  \\\n",
      "0   1              NaN      1/20/2020         NaN   \n",
      "1   2              NaN      1/20/2020         NaN   \n",
      "2   3              NaN      1/21/2020         NaN   \n",
      "3   4              NaN      1/21/2020         NaN   \n",
      "4   5              NaN      1/21/2020         NaN   \n",
      "\n",
      "                                             summary             location  \\\n",
      "0  First confirmed imported COVID-19 pneumonia pa...  Shenzhen, Guangdong   \n",
      "1  First confirmed imported COVID-19 pneumonia pa...             Shanghai   \n",
      "2  First confirmed imported cases in Zhejiang: pa...             Zhejiang   \n",
      "3  new confirmed imported COVID-19 pneumonia in T...              Tianjin   \n",
      "4  new confirmed imported COVID-19 pneumonia in T...              Tianjin   \n",
      "\n",
      "  country  gender   age symptom_onset  ...  hosp_visit_date exposure_start  \\\n",
      "0   China    male  66.0      1/3/2020  ...        1/11/2020     12/29/2019   \n",
      "1   China  female  56.0     1/15/2020  ...        1/15/2020            NaN   \n",
      "2   China    male  46.0      1/4/2020  ...        1/17/2020            NaN   \n",
      "3   China  female  60.0           NaN  ...        1/19/2020            NaN   \n",
      "4   China    male  58.0           NaN  ...        1/14/2020            NaN   \n",
      "\n",
      "  exposure_end visiting Wuhan  from Wuhan  death recovered symptom  \\\n",
      "0     1/4/2020              1         0.0      0         0     NaN   \n",
      "1    1/12/2020              0         1.0      0         0     NaN   \n",
      "2     1/3/2020              0         1.0      0         0     NaN   \n",
      "3          NaN              1         0.0      0         0     NaN   \n",
      "4          NaN              0         0.0      0         0     NaN   \n",
      "\n",
      "                                              source  \\\n",
      "0               Shenzhen Municipal Health Commission   \n",
      "1  Official Weibo of Shanghai Municipal Health Co...   \n",
      "2             Health Commission of Zhejiang Province   \n",
      "3                                           人民日报官方微博   \n",
      "4                                           人民日报官方微博   \n",
      "\n",
      "                                                link  \n",
      "0  http://wjw.sz.gov.cn/wzx/202001/t20200120_1898...  \n",
      "1  https://www.weibo.com/2372649470/IqogQhgfa?fro...  \n",
      "2  http://www.zjwjw.gov.cn/art/2020/1/21/art_1202...  \n",
      "3        https://m.weibo.cn/status/4463235401268457?  \n",
      "4        https://m.weibo.cn/status/4463235401268457?  \n",
      "\n",
      "[5 rows x 21 columns]\n",
      "<bound method NDFrame.describe of         id  case_in_country reporting date  Unnamed: 3  \\\n",
      "0        1              NaN      1/20/2020         NaN   \n",
      "1        2              NaN      1/20/2020         NaN   \n",
      "2        3              NaN      1/21/2020         NaN   \n",
      "3        4              NaN      1/21/2020         NaN   \n",
      "4        5              NaN      1/21/2020         NaN   \n",
      "...    ...              ...            ...         ...   \n",
      "1080  1081              2.0      2/25/2020         NaN   \n",
      "1081  1082              1.0      2/24/2020         NaN   \n",
      "1082  1083              1.0      2/26/2020         NaN   \n",
      "1083  1084              1.0      2/25/2020         NaN   \n",
      "1084  1085              1.0      2/25/2020         NaN   \n",
      "\n",
      "                                                summary             location  \\\n",
      "0     First confirmed imported COVID-19 pneumonia pa...  Shenzhen, Guangdong   \n",
      "1     First confirmed imported COVID-19 pneumonia pa...             Shanghai   \n",
      "2     First confirmed imported cases in Zhejiang: pa...             Zhejiang   \n",
      "3     new confirmed imported COVID-19 pneumonia in T...              Tianjin   \n",
      "4     new confirmed imported COVID-19 pneumonia in T...              Tianjin   \n",
      "...                                                 ...                  ...   \n",
      "1080  new COVID-19 patient confirmed in Austria: 24,...            Innsbruck   \n",
      "1081  new COVID-19 patient confirmed in Afghanistan:...          Afghanistan   \n",
      "1082  new COVID-19 patient confirmed in Algeria: mal...              Algeria   \n",
      "1083  new COVID-19 patient confirmed in Croatia: mal...              Croatia   \n",
      "1084  new COVID-19 patient confirmed in Switzerland:...                 Bern   \n",
      "\n",
      "          country  gender   age symptom_onset  ...  hosp_visit_date  \\\n",
      "0           China    male  66.0      1/3/2020  ...        1/11/2020   \n",
      "1           China  female  56.0     1/15/2020  ...        1/15/2020   \n",
      "2           China    male  46.0      1/4/2020  ...        1/17/2020   \n",
      "3           China  female  60.0           NaN  ...        1/19/2020   \n",
      "4           China    male  58.0           NaN  ...        1/14/2020   \n",
      "...           ...     ...   ...           ...  ...              ...   \n",
      "1080      Austria     NaN  24.0           NaN  ...              NaN   \n",
      "1081  Afghanistan     NaN  35.0           NaN  ...              NaN   \n",
      "1082      Algeria    male   NaN           NaN  ...              NaN   \n",
      "1083      Croatia    male   NaN           NaN  ...              NaN   \n",
      "1084  Switzerland    male  70.0     2/17/2020  ...              NaN   \n",
      "\n",
      "     exposure_start exposure_end visiting Wuhan  from Wuhan  death recovered  \\\n",
      "0        12/29/2019     1/4/2020              1         0.0      0         0   \n",
      "1               NaN    1/12/2020              0         1.0      0         0   \n",
      "2               NaN     1/3/2020              0         1.0      0         0   \n",
      "3               NaN          NaN              1         0.0      0         0   \n",
      "4               NaN          NaN              0         0.0      0         0   \n",
      "...             ...          ...            ...         ...    ...       ...   \n",
      "1080            NaN          NaN              0         0.0      0         0   \n",
      "1081            NaN          NaN              0         0.0      0         0   \n",
      "1082            NaN    2/17/2020              0         0.0      0         0   \n",
      "1083      2/19/2020    2/21/2020              0         0.0      0         0   \n",
      "1084      2/15/2020    2/15/2020              0         0.0      0         0   \n",
      "\n",
      "     symptom                                             source  \\\n",
      "0        NaN               Shenzhen Municipal Health Commission   \n",
      "1        NaN  Official Weibo of Shanghai Municipal Health Co...   \n",
      "2        NaN             Health Commission of Zhejiang Province   \n",
      "3        NaN                                           人民日报官方微博   \n",
      "4        NaN                                           人民日报官方微博   \n",
      "...      ...                                                ...   \n",
      "1080     NaN                                       Jakarta Post   \n",
      "1081     NaN                                           Fox News   \n",
      "1082     NaN                           South China Morning Post   \n",
      "1083     NaN                                            Reuters   \n",
      "1084     NaN                                            Reuters   \n",
      "\n",
      "                                                   link  \n",
      "0     http://wjw.sz.gov.cn/wzx/202001/t20200120_1898...  \n",
      "1     https://www.weibo.com/2372649470/IqogQhgfa?fro...  \n",
      "2     http://www.zjwjw.gov.cn/art/2020/1/21/art_1202...  \n",
      "3           https://m.weibo.cn/status/4463235401268457?  \n",
      "4           https://m.weibo.cn/status/4463235401268457?  \n",
      "...                                                 ...  \n",
      "1080  https://www.thejakartapost.com/news/2020/02/25...  \n",
      "1081  https://www.foxnews.com/health/afghanistan-fir...  \n",
      "1082  https://www.scmp.com/news/china/society/articl...  \n",
      "1083  https://www.reuters.com/article/us-croatia-cor...  \n",
      "1084  https://www.reuters.com/article/uk-switzerland...  \n",
      "\n",
      "[1085 rows x 21 columns]>\n"
     ]
    }
   ],
   "source": [
    "print(covid19.head(5))\n",
    "print(covid19.describe)"
   ]
  },
  {
   "cell_type": "code",
   "execution_count": 15,
   "metadata": {},
   "outputs": [
    {
     "data": {
      "text/html": [
       "<div>\n",
       "<style scoped>\n",
       "    .dataframe tbody tr th:only-of-type {\n",
       "        vertical-align: middle;\n",
       "    }\n",
       "\n",
       "    .dataframe tbody tr th {\n",
       "        vertical-align: top;\n",
       "    }\n",
       "\n",
       "    .dataframe thead th {\n",
       "        text-align: right;\n",
       "    }\n",
       "</style>\n",
       "<table border=\"1\" class=\"dataframe\">\n",
       "  <thead>\n",
       "    <tr style=\"text-align: right;\">\n",
       "      <th></th>\n",
       "      <th>id</th>\n",
       "      <th>case_in_country</th>\n",
       "      <th>reporting date</th>\n",
       "      <th>Unnamed: 3</th>\n",
       "      <th>summary</th>\n",
       "      <th>location</th>\n",
       "      <th>country</th>\n",
       "      <th>gender</th>\n",
       "      <th>age</th>\n",
       "      <th>symptom_onset</th>\n",
       "      <th>...</th>\n",
       "      <th>hosp_visit_date</th>\n",
       "      <th>exposure_start</th>\n",
       "      <th>exposure_end</th>\n",
       "      <th>visiting Wuhan</th>\n",
       "      <th>from Wuhan</th>\n",
       "      <th>death</th>\n",
       "      <th>recovered</th>\n",
       "      <th>symptom</th>\n",
       "      <th>source</th>\n",
       "      <th>link</th>\n",
       "    </tr>\n",
       "  </thead>\n",
       "  <tbody>\n",
       "    <tr>\n",
       "      <td>0</td>\n",
       "      <td>1</td>\n",
       "      <td>NaN</td>\n",
       "      <td>1/20/2020</td>\n",
       "      <td>NaN</td>\n",
       "      <td>First confirmed imported COVID-19 pneumonia pa...</td>\n",
       "      <td>Shenzhen, Guangdong</td>\n",
       "      <td>China</td>\n",
       "      <td>male</td>\n",
       "      <td>66.0</td>\n",
       "      <td>1/3/2020</td>\n",
       "      <td>...</td>\n",
       "      <td>1/11/2020</td>\n",
       "      <td>12/29/2019</td>\n",
       "      <td>1/4/2020</td>\n",
       "      <td>1</td>\n",
       "      <td>0.0</td>\n",
       "      <td>0</td>\n",
       "      <td>0</td>\n",
       "      <td>NaN</td>\n",
       "      <td>Shenzhen Municipal Health Commission</td>\n",
       "      <td>http://wjw.sz.gov.cn/wzx/202001/t20200120_1898...</td>\n",
       "    </tr>\n",
       "    <tr>\n",
       "      <td>1</td>\n",
       "      <td>2</td>\n",
       "      <td>NaN</td>\n",
       "      <td>1/20/2020</td>\n",
       "      <td>NaN</td>\n",
       "      <td>First confirmed imported COVID-19 pneumonia pa...</td>\n",
       "      <td>Shanghai</td>\n",
       "      <td>China</td>\n",
       "      <td>female</td>\n",
       "      <td>56.0</td>\n",
       "      <td>1/15/2020</td>\n",
       "      <td>...</td>\n",
       "      <td>1/15/2020</td>\n",
       "      <td>NaN</td>\n",
       "      <td>1/12/2020</td>\n",
       "      <td>0</td>\n",
       "      <td>1.0</td>\n",
       "      <td>0</td>\n",
       "      <td>0</td>\n",
       "      <td>NaN</td>\n",
       "      <td>Official Weibo of Shanghai Municipal Health Co...</td>\n",
       "      <td>https://www.weibo.com/2372649470/IqogQhgfa?fro...</td>\n",
       "    </tr>\n",
       "  </tbody>\n",
       "</table>\n",
       "<p>2 rows × 21 columns</p>\n",
       "</div>"
      ],
      "text/plain": [
       "   id  case_in_country reporting date  Unnamed: 3  \\\n",
       "0   1              NaN      1/20/2020         NaN   \n",
       "1   2              NaN      1/20/2020         NaN   \n",
       "\n",
       "                                             summary             location  \\\n",
       "0  First confirmed imported COVID-19 pneumonia pa...  Shenzhen, Guangdong   \n",
       "1  First confirmed imported COVID-19 pneumonia pa...             Shanghai   \n",
       "\n",
       "  country  gender   age symptom_onset  ...  hosp_visit_date exposure_start  \\\n",
       "0   China    male  66.0      1/3/2020  ...        1/11/2020     12/29/2019   \n",
       "1   China  female  56.0     1/15/2020  ...        1/15/2020            NaN   \n",
       "\n",
       "  exposure_end visiting Wuhan  from Wuhan  death recovered symptom  \\\n",
       "0     1/4/2020              1         0.0      0         0     NaN   \n",
       "1    1/12/2020              0         1.0      0         0     NaN   \n",
       "\n",
       "                                              source  \\\n",
       "0               Shenzhen Municipal Health Commission   \n",
       "1  Official Weibo of Shanghai Municipal Health Co...   \n",
       "\n",
       "                                                link  \n",
       "0  http://wjw.sz.gov.cn/wzx/202001/t20200120_1898...  \n",
       "1  https://www.weibo.com/2372649470/IqogQhgfa?fro...  \n",
       "\n",
       "[2 rows x 21 columns]"
      ]
     },
     "execution_count": 15,
     "metadata": {},
     "output_type": "execute_result"
    }
   ],
   "source": [
    "covid19.head(2)"
   ]
  },
  {
   "cell_type": "raw",
   "metadata": {},
   "source": [
    "Trimming the data by removing unnecessary columns"
   ]
  },
  {
   "cell_type": "code",
   "execution_count": 16,
   "metadata": {
    "scrolled": true
   },
   "outputs": [
    {
     "name": "stdout",
     "output_type": "stream",
     "text": [
      "   id  case_in_country reporting date  Unnamed: 3  \\\n",
      "0   1              NaN      1/20/2020         NaN   \n",
      "1   2              NaN      1/20/2020         NaN   \n",
      "2   3              NaN      1/21/2020         NaN   \n",
      "3   4              NaN      1/21/2020         NaN   \n",
      "4   5              NaN      1/21/2020         NaN   \n",
      "\n",
      "                                             summary             location  \\\n",
      "0  First confirmed imported COVID-19 pneumonia pa...  Shenzhen, Guangdong   \n",
      "1  First confirmed imported COVID-19 pneumonia pa...             Shanghai   \n",
      "2  First confirmed imported cases in Zhejiang: pa...             Zhejiang   \n",
      "3  new confirmed imported COVID-19 pneumonia in T...              Tianjin   \n",
      "4  new confirmed imported COVID-19 pneumonia in T...              Tianjin   \n",
      "\n",
      "  country  gender   age symptom_onset  If_onset_approximated hosp_visit_date  \\\n",
      "0   China    male  66.0      1/3/2020                    0.0       1/11/2020   \n",
      "1   China  female  56.0     1/15/2020                    0.0       1/15/2020   \n",
      "2   China    male  46.0      1/4/2020                    0.0       1/17/2020   \n",
      "3   China  female  60.0           NaN                    NaN       1/19/2020   \n",
      "4   China    male  58.0           NaN                    NaN       1/14/2020   \n",
      "\n",
      "  exposure_start exposure_end  visiting Wuhan  from Wuhan death recovered  \\\n",
      "0     12/29/2019     1/4/2020               1         0.0     0         0   \n",
      "1            NaN    1/12/2020               0         1.0     0         0   \n",
      "2            NaN     1/3/2020               0         1.0     0         0   \n",
      "3            NaN          NaN               1         0.0     0         0   \n",
      "4            NaN          NaN               0         0.0     0         0   \n",
      "\n",
      "  symptom                                             source  \n",
      "0     NaN               Shenzhen Municipal Health Commission  \n",
      "1     NaN  Official Weibo of Shanghai Municipal Health Co...  \n",
      "2     NaN             Health Commission of Zhejiang Province  \n",
      "3     NaN                                           人民日报官方微博  \n",
      "4     NaN                                           人民日报官方微博  \n"
     ]
    }
   ],
   "source": [
    "covid19 = covid19[covid19.columns[:-1]]\n",
    "print(covid19.head(5))"
   ]
  },
  {
   "cell_type": "raw",
   "metadata": {},
   "source": [
    "Instead of using the forward slash, we will convert the date by using the \"to_datetime\" function to bring the hyphen"
   ]
  },
  {
   "cell_type": "code",
   "execution_count": 18,
   "metadata": {},
   "outputs": [],
   "source": [
    "covid19['reporting date'] = pd.to_datetime(covid19['reporting date'])\n",
    "covid19['symptom_onset'] = pd.to_datetime(covid19['symptom_onset'])\n",
    "covid19['hosp_visit_date'] = pd.to_datetime(covid19['hosp_visit_date'])\n",
    "covid19['exposure_start'] = pd.to_datetime(covid19['exposure_start'])\n",
    "covid19['exposure_end'] = pd.to_datetime(covid19['exposure_end'])"
   ]
  },
  {
   "cell_type": "raw",
   "metadata": {},
   "source": [
    "Importing more COVID dataset"
   ]
  },
  {
   "cell_type": "code",
   "execution_count": 24,
   "metadata": {},
   "outputs": [],
   "source": [
    "covid20 = pd.read_csv(\"C:/Users/Delmafia91/Downloads/COVID19openlinelist.csv\")\n",
    "covid21 = pd.read_csv(\"C:/Users/Delmafia91/Downloads/covid19cleancomplete.csv\")"
   ]
  },
  {
   "cell_type": "code",
   "execution_count": 23,
   "metadata": {},
   "outputs": [
    {
     "data": {
      "text/html": [
       "<div>\n",
       "<style scoped>\n",
       "    .dataframe tbody tr th:only-of-type {\n",
       "        vertical-align: middle;\n",
       "    }\n",
       "\n",
       "    .dataframe tbody tr th {\n",
       "        vertical-align: top;\n",
       "    }\n",
       "\n",
       "    .dataframe thead th {\n",
       "        text-align: right;\n",
       "    }\n",
       "</style>\n",
       "<table border=\"1\" class=\"dataframe\">\n",
       "  <thead>\n",
       "    <tr style=\"text-align: right;\">\n",
       "      <th></th>\n",
       "      <th>ID</th>\n",
       "      <th>age</th>\n",
       "      <th>sex</th>\n",
       "      <th>city</th>\n",
       "      <th>province</th>\n",
       "      <th>country</th>\n",
       "      <th>wuhan(0)_not_wuhan(1)</th>\n",
       "      <th>latitude</th>\n",
       "      <th>longitude</th>\n",
       "      <th>geo_resolution</th>\n",
       "      <th>...</th>\n",
       "      <th>outcome</th>\n",
       "      <th>date_death_or_discharge</th>\n",
       "      <th>notes_for_discussion</th>\n",
       "      <th>location</th>\n",
       "      <th>admin3</th>\n",
       "      <th>admin2</th>\n",
       "      <th>admin1</th>\n",
       "      <th>country_new</th>\n",
       "      <th>admin_id</th>\n",
       "      <th>data_moderator_initials</th>\n",
       "    </tr>\n",
       "  </thead>\n",
       "  <tbody>\n",
       "    <tr>\n",
       "      <td>0</td>\n",
       "      <td>1.0</td>\n",
       "      <td>30</td>\n",
       "      <td>male</td>\n",
       "      <td>Chaohu City, Hefei City</td>\n",
       "      <td>Anhui</td>\n",
       "      <td>China</td>\n",
       "      <td>1.0</td>\n",
       "      <td>31.64696</td>\n",
       "      <td>117.7166</td>\n",
       "      <td>admin3</td>\n",
       "      <td>...</td>\n",
       "      <td>NaN</td>\n",
       "      <td>NaN</td>\n",
       "      <td>NaN</td>\n",
       "      <td>NaN</td>\n",
       "      <td>Chaohu City</td>\n",
       "      <td>Hefei City</td>\n",
       "      <td>Anhui</td>\n",
       "      <td>China</td>\n",
       "      <td>340181</td>\n",
       "      <td>NaN</td>\n",
       "    </tr>\n",
       "    <tr>\n",
       "      <td>1</td>\n",
       "      <td>2.0</td>\n",
       "      <td>47</td>\n",
       "      <td>male</td>\n",
       "      <td>Baohe District, Hefei City</td>\n",
       "      <td>Anhui</td>\n",
       "      <td>China</td>\n",
       "      <td>1.0</td>\n",
       "      <td>31.77863</td>\n",
       "      <td>117.3319</td>\n",
       "      <td>admin3</td>\n",
       "      <td>...</td>\n",
       "      <td>NaN</td>\n",
       "      <td>NaN</td>\n",
       "      <td>NaN</td>\n",
       "      <td>NaN</td>\n",
       "      <td>Baohe District</td>\n",
       "      <td>Hefei City</td>\n",
       "      <td>Anhui</td>\n",
       "      <td>China</td>\n",
       "      <td>340111</td>\n",
       "      <td>NaN</td>\n",
       "    </tr>\n",
       "  </tbody>\n",
       "</table>\n",
       "<p>2 rows × 33 columns</p>\n",
       "</div>"
      ],
      "text/plain": [
       "    ID age   sex                        city province country  \\\n",
       "0  1.0  30  male     Chaohu City, Hefei City    Anhui   China   \n",
       "1  2.0  47  male  Baohe District, Hefei City    Anhui   China   \n",
       "\n",
       "   wuhan(0)_not_wuhan(1)  latitude  longitude geo_resolution  ... outcome  \\\n",
       "0                    1.0  31.64696   117.7166         admin3  ...     NaN   \n",
       "1                    1.0  31.77863   117.3319         admin3  ...     NaN   \n",
       "\n",
       "  date_death_or_discharge notes_for_discussion location          admin3  \\\n",
       "0                     NaN                  NaN      NaN     Chaohu City   \n",
       "1                     NaN                  NaN      NaN  Baohe District   \n",
       "\n",
       "       admin2 admin1 country_new admin_id  data_moderator_initials  \n",
       "0  Hefei City  Anhui       China   340181                      NaN  \n",
       "1  Hefei City  Anhui       China   340111                      NaN  \n",
       "\n",
       "[2 rows x 33 columns]"
      ]
     },
     "execution_count": 23,
     "metadata": {},
     "output_type": "execute_result"
    }
   ],
   "source": [
    "covid20.head(2)"
   ]
  },
  {
   "cell_type": "code",
   "execution_count": 25,
   "metadata": {},
   "outputs": [
    {
     "data": {
      "text/html": [
       "<div>\n",
       "<style scoped>\n",
       "    .dataframe tbody tr th:only-of-type {\n",
       "        vertical-align: middle;\n",
       "    }\n",
       "\n",
       "    .dataframe tbody tr th {\n",
       "        vertical-align: top;\n",
       "    }\n",
       "\n",
       "    .dataframe thead th {\n",
       "        text-align: right;\n",
       "    }\n",
       "</style>\n",
       "<table border=\"1\" class=\"dataframe\">\n",
       "  <thead>\n",
       "    <tr style=\"text-align: right;\">\n",
       "      <th></th>\n",
       "      <th>Province/State</th>\n",
       "      <th>Country/Region</th>\n",
       "      <th>Lat</th>\n",
       "      <th>Long</th>\n",
       "      <th>Date</th>\n",
       "      <th>Confirmed</th>\n",
       "      <th>Deaths</th>\n",
       "      <th>Recovered</th>\n",
       "    </tr>\n",
       "  </thead>\n",
       "  <tbody>\n",
       "    <tr>\n",
       "      <td>0</td>\n",
       "      <td>NaN</td>\n",
       "      <td>Afghanistan</td>\n",
       "      <td>33.0000</td>\n",
       "      <td>65.0000</td>\n",
       "      <td>1/22/2020</td>\n",
       "      <td>0</td>\n",
       "      <td>0</td>\n",
       "      <td>0</td>\n",
       "    </tr>\n",
       "    <tr>\n",
       "      <td>1</td>\n",
       "      <td>NaN</td>\n",
       "      <td>Albania</td>\n",
       "      <td>41.1533</td>\n",
       "      <td>20.1683</td>\n",
       "      <td>1/22/2020</td>\n",
       "      <td>0</td>\n",
       "      <td>0</td>\n",
       "      <td>0</td>\n",
       "    </tr>\n",
       "  </tbody>\n",
       "</table>\n",
       "</div>"
      ],
      "text/plain": [
       "  Province/State Country/Region      Lat     Long       Date  Confirmed  \\\n",
       "0            NaN    Afghanistan  33.0000  65.0000  1/22/2020          0   \n",
       "1            NaN        Albania  41.1533  20.1683  1/22/2020          0   \n",
       "\n",
       "   Deaths  Recovered  \n",
       "0       0          0  \n",
       "1       0          0  "
      ]
     },
     "execution_count": 25,
     "metadata": {},
     "output_type": "execute_result"
    }
   ],
   "source": [
    "covid21.head(2)"
   ]
  },
  {
   "cell_type": "raw",
   "metadata": {},
   "source": [
    "We need to find a way to group all the countries together by location so we can know how many countries are affected by the corona virus"
   ]
  },
  {
   "cell_type": "code",
   "execution_count": 27,
   "metadata": {},
   "outputs": [],
   "source": [
    "covidloc = pd.DataFrame(covid19.groupby(['country']) ['location'].nunique()).reset_index().sort_values(by = 'location', ascending = False).reset_index(drop = True)\n",
    "covidloc.loc[covidloc.shape[0]] = ['Total:' +str(covidloc['country'].nunique()), 'Total: ' +str(covidloc['location'].sum())]"
   ]
  },
  {
   "cell_type": "code",
   "execution_count": 28,
   "metadata": {},
   "outputs": [
    {
     "name": "stdout",
     "output_type": "stream",
     "text": [
      "        country    location\n",
      "0         China          31\n",
      "1         Japan          23\n",
      "2        France          15\n",
      "3         Spain          10\n",
      "4     Hong Kong          10\n",
      "5       Germany           8\n",
      "6           USA           7\n",
      "7            UK           5\n",
      "8       Vietnam           5\n",
      "9     Australia           4\n",
      "10         Iran           4\n",
      "11     Malaysia           3\n",
      "12       Russia           2\n",
      "13       Canada           2\n",
      "14  Phillipines           2\n",
      "15        India           2\n",
      "16  South Korea           2\n",
      "17       Sweden           1\n",
      "18      Bahrain           1\n",
      "19    Sri Lanka           1\n",
      "20      Croatia           1\n",
      "21  Switzerland           1\n",
      "22       Taiwan           1\n",
      "23          UAE           1\n",
      "24      Austria           1\n",
      "25     Thailand           1\n",
      "26        Nepal           1\n",
      "27    Singapore           1\n",
      "28        Egypt           1\n",
      "29      Lebanon           1\n",
      "30       Kuwait           1\n",
      "31      Algeria           1\n",
      "32        Italy           1\n",
      "33       Israel           1\n",
      "34      Belgium           1\n",
      "35     Cambodia           1\n",
      "36      Finland           1\n",
      "37  Afghanistan           1\n",
      "38     Total:38  Total: 156\n"
     ]
    }
   ],
   "source": [
    "print(covidloc)"
   ]
  },
  {
   "cell_type": "raw",
   "metadata": {},
   "source": [
    "Getting the interval of time from the time of the exposure to the symptom and from the time of the symptom to the hospital visit"
   ]
  },
  {
   "cell_type": "code",
   "execution_count": 30,
   "metadata": {},
   "outputs": [],
   "source": [
    "covid19['sym_exp_diff'] = (covid19['symptom_onset'] - covid19['exposure_end']).dt.days\n",
    "covid19['hosp_sym_diff'] = (covid19['hosp_visit_date'] - covid19['symptom_onset']).dt.days"
   ]
  },
  {
   "cell_type": "code",
   "execution_count": 36,
   "metadata": {},
   "outputs": [
    {
     "data": {
      "application/vnd.plotly.v1+json": {
       "config": {
        "plotlyServerURL": "https://plot.ly"
       },
       "data": [
        {
         "domain": {
          "x": [
           0,
           1
          ],
          "y": [
           0,
           1
          ]
         },
         "hoverlabel": {
          "namelength": 0
         },
         "hovertemplate": "label=%{label}<br>value=%{value}",
         "labels": [
          "Male",
          "Female"
         ],
         "legendgroup": "",
         "name": "",
         "showlegend": true,
         "type": "pie",
         "values": [
          520,
          382
         ]
        }
       ],
       "layout": {
        "legend": {
         "tracegroupgap": 0
        },
        "template": {
         "data": {
          "bar": [
           {
            "error_x": {
             "color": "#2a3f5f"
            },
            "error_y": {
             "color": "#2a3f5f"
            },
            "marker": {
             "line": {
              "color": "#E5ECF6",
              "width": 0.5
             }
            },
            "type": "bar"
           }
          ],
          "barpolar": [
           {
            "marker": {
             "line": {
              "color": "#E5ECF6",
              "width": 0.5
             }
            },
            "type": "barpolar"
           }
          ],
          "carpet": [
           {
            "aaxis": {
             "endlinecolor": "#2a3f5f",
             "gridcolor": "white",
             "linecolor": "white",
             "minorgridcolor": "white",
             "startlinecolor": "#2a3f5f"
            },
            "baxis": {
             "endlinecolor": "#2a3f5f",
             "gridcolor": "white",
             "linecolor": "white",
             "minorgridcolor": "white",
             "startlinecolor": "#2a3f5f"
            },
            "type": "carpet"
           }
          ],
          "choropleth": [
           {
            "colorbar": {
             "outlinewidth": 0,
             "ticks": ""
            },
            "type": "choropleth"
           }
          ],
          "contour": [
           {
            "colorbar": {
             "outlinewidth": 0,
             "ticks": ""
            },
            "colorscale": [
             [
              0,
              "#0d0887"
             ],
             [
              0.1111111111111111,
              "#46039f"
             ],
             [
              0.2222222222222222,
              "#7201a8"
             ],
             [
              0.3333333333333333,
              "#9c179e"
             ],
             [
              0.4444444444444444,
              "#bd3786"
             ],
             [
              0.5555555555555556,
              "#d8576b"
             ],
             [
              0.6666666666666666,
              "#ed7953"
             ],
             [
              0.7777777777777778,
              "#fb9f3a"
             ],
             [
              0.8888888888888888,
              "#fdca26"
             ],
             [
              1,
              "#f0f921"
             ]
            ],
            "type": "contour"
           }
          ],
          "contourcarpet": [
           {
            "colorbar": {
             "outlinewidth": 0,
             "ticks": ""
            },
            "type": "contourcarpet"
           }
          ],
          "heatmap": [
           {
            "colorbar": {
             "outlinewidth": 0,
             "ticks": ""
            },
            "colorscale": [
             [
              0,
              "#0d0887"
             ],
             [
              0.1111111111111111,
              "#46039f"
             ],
             [
              0.2222222222222222,
              "#7201a8"
             ],
             [
              0.3333333333333333,
              "#9c179e"
             ],
             [
              0.4444444444444444,
              "#bd3786"
             ],
             [
              0.5555555555555556,
              "#d8576b"
             ],
             [
              0.6666666666666666,
              "#ed7953"
             ],
             [
              0.7777777777777778,
              "#fb9f3a"
             ],
             [
              0.8888888888888888,
              "#fdca26"
             ],
             [
              1,
              "#f0f921"
             ]
            ],
            "type": "heatmap"
           }
          ],
          "heatmapgl": [
           {
            "colorbar": {
             "outlinewidth": 0,
             "ticks": ""
            },
            "colorscale": [
             [
              0,
              "#0d0887"
             ],
             [
              0.1111111111111111,
              "#46039f"
             ],
             [
              0.2222222222222222,
              "#7201a8"
             ],
             [
              0.3333333333333333,
              "#9c179e"
             ],
             [
              0.4444444444444444,
              "#bd3786"
             ],
             [
              0.5555555555555556,
              "#d8576b"
             ],
             [
              0.6666666666666666,
              "#ed7953"
             ],
             [
              0.7777777777777778,
              "#fb9f3a"
             ],
             [
              0.8888888888888888,
              "#fdca26"
             ],
             [
              1,
              "#f0f921"
             ]
            ],
            "type": "heatmapgl"
           }
          ],
          "histogram": [
           {
            "marker": {
             "colorbar": {
              "outlinewidth": 0,
              "ticks": ""
             }
            },
            "type": "histogram"
           }
          ],
          "histogram2d": [
           {
            "colorbar": {
             "outlinewidth": 0,
             "ticks": ""
            },
            "colorscale": [
             [
              0,
              "#0d0887"
             ],
             [
              0.1111111111111111,
              "#46039f"
             ],
             [
              0.2222222222222222,
              "#7201a8"
             ],
             [
              0.3333333333333333,
              "#9c179e"
             ],
             [
              0.4444444444444444,
              "#bd3786"
             ],
             [
              0.5555555555555556,
              "#d8576b"
             ],
             [
              0.6666666666666666,
              "#ed7953"
             ],
             [
              0.7777777777777778,
              "#fb9f3a"
             ],
             [
              0.8888888888888888,
              "#fdca26"
             ],
             [
              1,
              "#f0f921"
             ]
            ],
            "type": "histogram2d"
           }
          ],
          "histogram2dcontour": [
           {
            "colorbar": {
             "outlinewidth": 0,
             "ticks": ""
            },
            "colorscale": [
             [
              0,
              "#0d0887"
             ],
             [
              0.1111111111111111,
              "#46039f"
             ],
             [
              0.2222222222222222,
              "#7201a8"
             ],
             [
              0.3333333333333333,
              "#9c179e"
             ],
             [
              0.4444444444444444,
              "#bd3786"
             ],
             [
              0.5555555555555556,
              "#d8576b"
             ],
             [
              0.6666666666666666,
              "#ed7953"
             ],
             [
              0.7777777777777778,
              "#fb9f3a"
             ],
             [
              0.8888888888888888,
              "#fdca26"
             ],
             [
              1,
              "#f0f921"
             ]
            ],
            "type": "histogram2dcontour"
           }
          ],
          "mesh3d": [
           {
            "colorbar": {
             "outlinewidth": 0,
             "ticks": ""
            },
            "type": "mesh3d"
           }
          ],
          "parcoords": [
           {
            "line": {
             "colorbar": {
              "outlinewidth": 0,
              "ticks": ""
             }
            },
            "type": "parcoords"
           }
          ],
          "pie": [
           {
            "automargin": true,
            "type": "pie"
           }
          ],
          "scatter": [
           {
            "marker": {
             "colorbar": {
              "outlinewidth": 0,
              "ticks": ""
             }
            },
            "type": "scatter"
           }
          ],
          "scatter3d": [
           {
            "line": {
             "colorbar": {
              "outlinewidth": 0,
              "ticks": ""
             }
            },
            "marker": {
             "colorbar": {
              "outlinewidth": 0,
              "ticks": ""
             }
            },
            "type": "scatter3d"
           }
          ],
          "scattercarpet": [
           {
            "marker": {
             "colorbar": {
              "outlinewidth": 0,
              "ticks": ""
             }
            },
            "type": "scattercarpet"
           }
          ],
          "scattergeo": [
           {
            "marker": {
             "colorbar": {
              "outlinewidth": 0,
              "ticks": ""
             }
            },
            "type": "scattergeo"
           }
          ],
          "scattergl": [
           {
            "marker": {
             "colorbar": {
              "outlinewidth": 0,
              "ticks": ""
             }
            },
            "type": "scattergl"
           }
          ],
          "scattermapbox": [
           {
            "marker": {
             "colorbar": {
              "outlinewidth": 0,
              "ticks": ""
             }
            },
            "type": "scattermapbox"
           }
          ],
          "scatterpolar": [
           {
            "marker": {
             "colorbar": {
              "outlinewidth": 0,
              "ticks": ""
             }
            },
            "type": "scatterpolar"
           }
          ],
          "scatterpolargl": [
           {
            "marker": {
             "colorbar": {
              "outlinewidth": 0,
              "ticks": ""
             }
            },
            "type": "scatterpolargl"
           }
          ],
          "scatterternary": [
           {
            "marker": {
             "colorbar": {
              "outlinewidth": 0,
              "ticks": ""
             }
            },
            "type": "scatterternary"
           }
          ],
          "surface": [
           {
            "colorbar": {
             "outlinewidth": 0,
             "ticks": ""
            },
            "colorscale": [
             [
              0,
              "#0d0887"
             ],
             [
              0.1111111111111111,
              "#46039f"
             ],
             [
              0.2222222222222222,
              "#7201a8"
             ],
             [
              0.3333333333333333,
              "#9c179e"
             ],
             [
              0.4444444444444444,
              "#bd3786"
             ],
             [
              0.5555555555555556,
              "#d8576b"
             ],
             [
              0.6666666666666666,
              "#ed7953"
             ],
             [
              0.7777777777777778,
              "#fb9f3a"
             ],
             [
              0.8888888888888888,
              "#fdca26"
             ],
             [
              1,
              "#f0f921"
             ]
            ],
            "type": "surface"
           }
          ],
          "table": [
           {
            "cells": {
             "fill": {
              "color": "#EBF0F8"
             },
             "line": {
              "color": "white"
             }
            },
            "header": {
             "fill": {
              "color": "#C8D4E3"
             },
             "line": {
              "color": "white"
             }
            },
            "type": "table"
           }
          ]
         },
         "layout": {
          "annotationdefaults": {
           "arrowcolor": "#2a3f5f",
           "arrowhead": 0,
           "arrowwidth": 1
          },
          "coloraxis": {
           "colorbar": {
            "outlinewidth": 0,
            "ticks": ""
           }
          },
          "colorscale": {
           "diverging": [
            [
             0,
             "#8e0152"
            ],
            [
             0.1,
             "#c51b7d"
            ],
            [
             0.2,
             "#de77ae"
            ],
            [
             0.3,
             "#f1b6da"
            ],
            [
             0.4,
             "#fde0ef"
            ],
            [
             0.5,
             "#f7f7f7"
            ],
            [
             0.6,
             "#e6f5d0"
            ],
            [
             0.7,
             "#b8e186"
            ],
            [
             0.8,
             "#7fbc41"
            ],
            [
             0.9,
             "#4d9221"
            ],
            [
             1,
             "#276419"
            ]
           ],
           "sequential": [
            [
             0,
             "#0d0887"
            ],
            [
             0.1111111111111111,
             "#46039f"
            ],
            [
             0.2222222222222222,
             "#7201a8"
            ],
            [
             0.3333333333333333,
             "#9c179e"
            ],
            [
             0.4444444444444444,
             "#bd3786"
            ],
            [
             0.5555555555555556,
             "#d8576b"
            ],
            [
             0.6666666666666666,
             "#ed7953"
            ],
            [
             0.7777777777777778,
             "#fb9f3a"
            ],
            [
             0.8888888888888888,
             "#fdca26"
            ],
            [
             1,
             "#f0f921"
            ]
           ],
           "sequentialminus": [
            [
             0,
             "#0d0887"
            ],
            [
             0.1111111111111111,
             "#46039f"
            ],
            [
             0.2222222222222222,
             "#7201a8"
            ],
            [
             0.3333333333333333,
             "#9c179e"
            ],
            [
             0.4444444444444444,
             "#bd3786"
            ],
            [
             0.5555555555555556,
             "#d8576b"
            ],
            [
             0.6666666666666666,
             "#ed7953"
            ],
            [
             0.7777777777777778,
             "#fb9f3a"
            ],
            [
             0.8888888888888888,
             "#fdca26"
            ],
            [
             1,
             "#f0f921"
            ]
           ]
          },
          "colorway": [
           "#636efa",
           "#EF553B",
           "#00cc96",
           "#ab63fa",
           "#FFA15A",
           "#19d3f3",
           "#FF6692",
           "#B6E880",
           "#FF97FF",
           "#FECB52"
          ],
          "font": {
           "color": "#2a3f5f"
          },
          "geo": {
           "bgcolor": "white",
           "lakecolor": "white",
           "landcolor": "#E5ECF6",
           "showlakes": true,
           "showland": true,
           "subunitcolor": "white"
          },
          "hoverlabel": {
           "align": "left"
          },
          "hovermode": "closest",
          "mapbox": {
           "style": "light"
          },
          "paper_bgcolor": "white",
          "plot_bgcolor": "#E5ECF6",
          "polar": {
           "angularaxis": {
            "gridcolor": "white",
            "linecolor": "white",
            "ticks": ""
           },
           "bgcolor": "#E5ECF6",
           "radialaxis": {
            "gridcolor": "white",
            "linecolor": "white",
            "ticks": ""
           }
          },
          "scene": {
           "xaxis": {
            "backgroundcolor": "#E5ECF6",
            "gridcolor": "white",
            "gridwidth": 2,
            "linecolor": "white",
            "showbackground": true,
            "ticks": "",
            "zerolinecolor": "white"
           },
           "yaxis": {
            "backgroundcolor": "#E5ECF6",
            "gridcolor": "white",
            "gridwidth": 2,
            "linecolor": "white",
            "showbackground": true,
            "ticks": "",
            "zerolinecolor": "white"
           },
           "zaxis": {
            "backgroundcolor": "#E5ECF6",
            "gridcolor": "white",
            "gridwidth": 2,
            "linecolor": "white",
            "showbackground": true,
            "ticks": "",
            "zerolinecolor": "white"
           }
          },
          "shapedefaults": {
           "line": {
            "color": "#2a3f5f"
           }
          },
          "ternary": {
           "aaxis": {
            "gridcolor": "white",
            "linecolor": "white",
            "ticks": ""
           },
           "baxis": {
            "gridcolor": "white",
            "linecolor": "white",
            "ticks": ""
           },
           "bgcolor": "#E5ECF6",
           "caxis": {
            "gridcolor": "white",
            "linecolor": "white",
            "ticks": ""
           }
          },
          "title": {
           "x": 0.05
          },
          "xaxis": {
           "automargin": true,
           "gridcolor": "white",
           "linecolor": "white",
           "ticks": "",
           "title": {
            "standoff": 15
           },
           "zerolinecolor": "white",
           "zerolinewidth": 2
          },
          "yaxis": {
           "automargin": true,
           "gridcolor": "white",
           "linecolor": "white",
           "ticks": "",
           "title": {
            "standoff": 15
           },
           "zerolinecolor": "white",
           "zerolinewidth": 2
          }
         }
        },
        "title": {
         "text": "Male vs Female Affected Ratio"
        }
       }
      },
      "text/html": [
       "<div>\n",
       "        \n",
       "        \n",
       "            <div id=\"0c646f63-1123-46ca-85a6-ff7bbb7be3c9\" class=\"plotly-graph-div\" style=\"height:525px; width:100%;\"></div>\n",
       "            <script type=\"text/javascript\">\n",
       "                require([\"plotly\"], function(Plotly) {\n",
       "                    window.PLOTLYENV=window.PLOTLYENV || {};\n",
       "                    \n",
       "                if (document.getElementById(\"0c646f63-1123-46ca-85a6-ff7bbb7be3c9\")) {\n",
       "                    Plotly.newPlot(\n",
       "                        '0c646f63-1123-46ca-85a6-ff7bbb7be3c9',\n",
       "                        [{\"domain\": {\"x\": [0.0, 1.0], \"y\": [0.0, 1.0]}, \"hoverlabel\": {\"namelength\": 0}, \"hovertemplate\": \"label=%{label}<br>value=%{value}\", \"labels\": [\"Male\", \"Female\"], \"legendgroup\": \"\", \"name\": \"\", \"showlegend\": true, \"type\": \"pie\", \"values\": [520, 382]}],\n",
       "                        {\"legend\": {\"tracegroupgap\": 0}, \"template\": {\"data\": {\"bar\": [{\"error_x\": {\"color\": \"#2a3f5f\"}, \"error_y\": {\"color\": \"#2a3f5f\"}, \"marker\": {\"line\": {\"color\": \"#E5ECF6\", \"width\": 0.5}}, \"type\": \"bar\"}], \"barpolar\": [{\"marker\": {\"line\": {\"color\": \"#E5ECF6\", \"width\": 0.5}}, \"type\": \"barpolar\"}], \"carpet\": [{\"aaxis\": {\"endlinecolor\": \"#2a3f5f\", \"gridcolor\": \"white\", \"linecolor\": \"white\", \"minorgridcolor\": \"white\", \"startlinecolor\": \"#2a3f5f\"}, \"baxis\": {\"endlinecolor\": \"#2a3f5f\", \"gridcolor\": \"white\", \"linecolor\": \"white\", \"minorgridcolor\": \"white\", \"startlinecolor\": \"#2a3f5f\"}, \"type\": \"carpet\"}], \"choropleth\": [{\"colorbar\": {\"outlinewidth\": 0, \"ticks\": \"\"}, \"type\": \"choropleth\"}], \"contour\": [{\"colorbar\": {\"outlinewidth\": 0, \"ticks\": \"\"}, \"colorscale\": [[0.0, \"#0d0887\"], [0.1111111111111111, \"#46039f\"], [0.2222222222222222, \"#7201a8\"], [0.3333333333333333, \"#9c179e\"], [0.4444444444444444, \"#bd3786\"], [0.5555555555555556, \"#d8576b\"], [0.6666666666666666, \"#ed7953\"], [0.7777777777777778, \"#fb9f3a\"], [0.8888888888888888, \"#fdca26\"], [1.0, \"#f0f921\"]], \"type\": \"contour\"}], \"contourcarpet\": [{\"colorbar\": {\"outlinewidth\": 0, \"ticks\": \"\"}, \"type\": \"contourcarpet\"}], \"heatmap\": [{\"colorbar\": {\"outlinewidth\": 0, \"ticks\": \"\"}, \"colorscale\": [[0.0, \"#0d0887\"], [0.1111111111111111, \"#46039f\"], [0.2222222222222222, \"#7201a8\"], [0.3333333333333333, \"#9c179e\"], [0.4444444444444444, \"#bd3786\"], [0.5555555555555556, \"#d8576b\"], [0.6666666666666666, \"#ed7953\"], [0.7777777777777778, \"#fb9f3a\"], [0.8888888888888888, \"#fdca26\"], [1.0, \"#f0f921\"]], \"type\": \"heatmap\"}], \"heatmapgl\": [{\"colorbar\": {\"outlinewidth\": 0, \"ticks\": \"\"}, \"colorscale\": [[0.0, \"#0d0887\"], [0.1111111111111111, \"#46039f\"], [0.2222222222222222, \"#7201a8\"], [0.3333333333333333, \"#9c179e\"], [0.4444444444444444, \"#bd3786\"], [0.5555555555555556, \"#d8576b\"], [0.6666666666666666, \"#ed7953\"], [0.7777777777777778, \"#fb9f3a\"], [0.8888888888888888, \"#fdca26\"], [1.0, \"#f0f921\"]], \"type\": \"heatmapgl\"}], \"histogram\": [{\"marker\": {\"colorbar\": {\"outlinewidth\": 0, \"ticks\": \"\"}}, \"type\": \"histogram\"}], \"histogram2d\": [{\"colorbar\": {\"outlinewidth\": 0, \"ticks\": \"\"}, \"colorscale\": [[0.0, \"#0d0887\"], [0.1111111111111111, \"#46039f\"], [0.2222222222222222, \"#7201a8\"], [0.3333333333333333, \"#9c179e\"], [0.4444444444444444, \"#bd3786\"], [0.5555555555555556, \"#d8576b\"], [0.6666666666666666, \"#ed7953\"], [0.7777777777777778, \"#fb9f3a\"], [0.8888888888888888, \"#fdca26\"], [1.0, \"#f0f921\"]], \"type\": \"histogram2d\"}], \"histogram2dcontour\": [{\"colorbar\": {\"outlinewidth\": 0, \"ticks\": \"\"}, \"colorscale\": [[0.0, \"#0d0887\"], [0.1111111111111111, \"#46039f\"], [0.2222222222222222, \"#7201a8\"], [0.3333333333333333, \"#9c179e\"], [0.4444444444444444, \"#bd3786\"], [0.5555555555555556, \"#d8576b\"], [0.6666666666666666, \"#ed7953\"], [0.7777777777777778, \"#fb9f3a\"], [0.8888888888888888, \"#fdca26\"], [1.0, \"#f0f921\"]], \"type\": \"histogram2dcontour\"}], \"mesh3d\": [{\"colorbar\": {\"outlinewidth\": 0, \"ticks\": \"\"}, \"type\": \"mesh3d\"}], \"parcoords\": [{\"line\": {\"colorbar\": {\"outlinewidth\": 0, \"ticks\": \"\"}}, \"type\": \"parcoords\"}], \"pie\": [{\"automargin\": true, \"type\": \"pie\"}], \"scatter\": [{\"marker\": {\"colorbar\": {\"outlinewidth\": 0, \"ticks\": \"\"}}, \"type\": \"scatter\"}], \"scatter3d\": [{\"line\": {\"colorbar\": {\"outlinewidth\": 0, \"ticks\": \"\"}}, \"marker\": {\"colorbar\": {\"outlinewidth\": 0, \"ticks\": \"\"}}, \"type\": \"scatter3d\"}], \"scattercarpet\": [{\"marker\": {\"colorbar\": {\"outlinewidth\": 0, \"ticks\": \"\"}}, \"type\": \"scattercarpet\"}], \"scattergeo\": [{\"marker\": {\"colorbar\": {\"outlinewidth\": 0, \"ticks\": \"\"}}, \"type\": \"scattergeo\"}], \"scattergl\": [{\"marker\": {\"colorbar\": {\"outlinewidth\": 0, \"ticks\": \"\"}}, \"type\": \"scattergl\"}], \"scattermapbox\": [{\"marker\": {\"colorbar\": {\"outlinewidth\": 0, \"ticks\": \"\"}}, \"type\": \"scattermapbox\"}], \"scatterpolar\": [{\"marker\": {\"colorbar\": {\"outlinewidth\": 0, \"ticks\": \"\"}}, \"type\": \"scatterpolar\"}], \"scatterpolargl\": [{\"marker\": {\"colorbar\": {\"outlinewidth\": 0, \"ticks\": \"\"}}, \"type\": \"scatterpolargl\"}], \"scatterternary\": [{\"marker\": {\"colorbar\": {\"outlinewidth\": 0, \"ticks\": \"\"}}, \"type\": \"scatterternary\"}], \"surface\": [{\"colorbar\": {\"outlinewidth\": 0, \"ticks\": \"\"}, \"colorscale\": [[0.0, \"#0d0887\"], [0.1111111111111111, \"#46039f\"], [0.2222222222222222, \"#7201a8\"], [0.3333333333333333, \"#9c179e\"], [0.4444444444444444, \"#bd3786\"], [0.5555555555555556, \"#d8576b\"], [0.6666666666666666, \"#ed7953\"], [0.7777777777777778, \"#fb9f3a\"], [0.8888888888888888, \"#fdca26\"], [1.0, \"#f0f921\"]], \"type\": \"surface\"}], \"table\": [{\"cells\": {\"fill\": {\"color\": \"#EBF0F8\"}, \"line\": {\"color\": \"white\"}}, \"header\": {\"fill\": {\"color\": \"#C8D4E3\"}, \"line\": {\"color\": \"white\"}}, \"type\": \"table\"}]}, \"layout\": {\"annotationdefaults\": {\"arrowcolor\": \"#2a3f5f\", \"arrowhead\": 0, \"arrowwidth\": 1}, \"coloraxis\": {\"colorbar\": {\"outlinewidth\": 0, \"ticks\": \"\"}}, \"colorscale\": {\"diverging\": [[0, \"#8e0152\"], [0.1, \"#c51b7d\"], [0.2, \"#de77ae\"], [0.3, \"#f1b6da\"], [0.4, \"#fde0ef\"], [0.5, \"#f7f7f7\"], [0.6, \"#e6f5d0\"], [0.7, \"#b8e186\"], [0.8, \"#7fbc41\"], [0.9, \"#4d9221\"], [1, \"#276419\"]], \"sequential\": [[0.0, \"#0d0887\"], [0.1111111111111111, \"#46039f\"], [0.2222222222222222, \"#7201a8\"], [0.3333333333333333, \"#9c179e\"], [0.4444444444444444, \"#bd3786\"], [0.5555555555555556, \"#d8576b\"], [0.6666666666666666, \"#ed7953\"], [0.7777777777777778, \"#fb9f3a\"], [0.8888888888888888, \"#fdca26\"], [1.0, \"#f0f921\"]], \"sequentialminus\": [[0.0, \"#0d0887\"], [0.1111111111111111, \"#46039f\"], [0.2222222222222222, \"#7201a8\"], [0.3333333333333333, \"#9c179e\"], [0.4444444444444444, \"#bd3786\"], [0.5555555555555556, \"#d8576b\"], [0.6666666666666666, \"#ed7953\"], [0.7777777777777778, \"#fb9f3a\"], [0.8888888888888888, \"#fdca26\"], [1.0, \"#f0f921\"]]}, \"colorway\": [\"#636efa\", \"#EF553B\", \"#00cc96\", \"#ab63fa\", \"#FFA15A\", \"#19d3f3\", \"#FF6692\", \"#B6E880\", \"#FF97FF\", \"#FECB52\"], \"font\": {\"color\": \"#2a3f5f\"}, \"geo\": {\"bgcolor\": \"white\", \"lakecolor\": \"white\", \"landcolor\": \"#E5ECF6\", \"showlakes\": true, \"showland\": true, \"subunitcolor\": \"white\"}, \"hoverlabel\": {\"align\": \"left\"}, \"hovermode\": \"closest\", \"mapbox\": {\"style\": \"light\"}, \"paper_bgcolor\": \"white\", \"plot_bgcolor\": \"#E5ECF6\", \"polar\": {\"angularaxis\": {\"gridcolor\": \"white\", \"linecolor\": \"white\", \"ticks\": \"\"}, \"bgcolor\": \"#E5ECF6\", \"radialaxis\": {\"gridcolor\": \"white\", \"linecolor\": \"white\", \"ticks\": \"\"}}, \"scene\": {\"xaxis\": {\"backgroundcolor\": \"#E5ECF6\", \"gridcolor\": \"white\", \"gridwidth\": 2, \"linecolor\": \"white\", \"showbackground\": true, \"ticks\": \"\", \"zerolinecolor\": \"white\"}, \"yaxis\": {\"backgroundcolor\": \"#E5ECF6\", \"gridcolor\": \"white\", \"gridwidth\": 2, \"linecolor\": \"white\", \"showbackground\": true, \"ticks\": \"\", \"zerolinecolor\": \"white\"}, \"zaxis\": {\"backgroundcolor\": \"#E5ECF6\", \"gridcolor\": \"white\", \"gridwidth\": 2, \"linecolor\": \"white\", \"showbackground\": true, \"ticks\": \"\", \"zerolinecolor\": \"white\"}}, \"shapedefaults\": {\"line\": {\"color\": \"#2a3f5f\"}}, \"ternary\": {\"aaxis\": {\"gridcolor\": \"white\", \"linecolor\": \"white\", \"ticks\": \"\"}, \"baxis\": {\"gridcolor\": \"white\", \"linecolor\": \"white\", \"ticks\": \"\"}, \"bgcolor\": \"#E5ECF6\", \"caxis\": {\"gridcolor\": \"white\", \"linecolor\": \"white\", \"ticks\": \"\"}}, \"title\": {\"x\": 0.05}, \"xaxis\": {\"automargin\": true, \"gridcolor\": \"white\", \"linecolor\": \"white\", \"ticks\": \"\", \"title\": {\"standoff\": 15}, \"zerolinecolor\": \"white\", \"zerolinewidth\": 2}, \"yaxis\": {\"automargin\": true, \"gridcolor\": \"white\", \"linecolor\": \"white\", \"ticks\": \"\", \"title\": {\"standoff\": 15}, \"zerolinecolor\": \"white\", \"zerolinewidth\": 2}}}, \"title\": {\"text\": \"Male vs Female Affected Ratio\"}},\n",
       "                        {\"responsive\": true}\n",
       "                    ).then(function(){\n",
       "                            \n",
       "var gd = document.getElementById('0c646f63-1123-46ca-85a6-ff7bbb7be3c9');\n",
       "var x = new MutationObserver(function (mutations, observer) {{\n",
       "        var display = window.getComputedStyle(gd).display;\n",
       "        if (!display || display === 'none') {{\n",
       "            console.log([gd, 'removed!']);\n",
       "            Plotly.purge(gd);\n",
       "            observer.disconnect();\n",
       "        }}\n",
       "}});\n",
       "\n",
       "// Listen for the removal of the full notebook cells\n",
       "var notebookContainer = gd.closest('#notebook-container');\n",
       "if (notebookContainer) {{\n",
       "    x.observe(notebookContainer, {childList: true});\n",
       "}}\n",
       "\n",
       "// Listen for the clearing of the current output cell\n",
       "var outputEl = gd.closest('.output');\n",
       "if (outputEl) {{\n",
       "    x.observe(outputEl, {childList: true});\n",
       "}}\n",
       "\n",
       "                        })\n",
       "                };\n",
       "                });\n",
       "            </script>\n",
       "        </div>"
      ]
     },
     "metadata": {},
     "output_type": "display_data"
    }
   ],
   "source": [
    "fig = pe.pie(covid19, values = [covid19['gender'].value_counts()[0], covid19['gender'].value_counts()[1]], names = ['Male', 'Female'], title = 'Male vs Female Affected Ratio')\n",
    "fig.show()"
   ]
  },
  {
   "cell_type": "code",
   "execution_count": null,
   "metadata": {},
   "outputs": [],
   "source": []
  }
 ],
 "metadata": {
  "kernelspec": {
   "display_name": "Python 3",
   "language": "python",
   "name": "python3"
  },
  "language_info": {
   "codemirror_mode": {
    "name": "ipython",
    "version": 3
   },
   "file_extension": ".py",
   "mimetype": "text/x-python",
   "name": "python",
   "nbconvert_exporter": "python",
   "pygments_lexer": "ipython3",
   "version": "3.7.4"
  }
 },
 "nbformat": 4,
 "nbformat_minor": 2
}
